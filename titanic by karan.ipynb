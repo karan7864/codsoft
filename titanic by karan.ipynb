{
 "cells": [
  {
   "cell_type": "markdown",
   "id": "dfedfcc2",
   "metadata": {},
   "source": [
    "# Titanic Survival Detection using TensorFlow and Scikit-Learn"
   ]
  },
  {
   "cell_type": "code",
   "execution_count": 1,
   "id": "1862dee9",
   "metadata": {},
   "outputs": [],
   "source": [
    "# Import necessary libraries\n",
    "import numpy as np\n",
    "import pandas as pd\n",
    "import tensorflow as tf\n",
    "from sklearn.model_selection import train_test_split\n",
    "from sklearn.preprocessing import StandardScaler"
   ]
  },
  {
   "cell_type": "markdown",
   "id": "21cad12d",
   "metadata": {},
   "source": [
    "**Step 1: Load and Preprocess the Dataset**"
   ]
  },
  {
   "cell_type": "code",
   "execution_count": 2,
   "id": "a86ebda0",
   "metadata": {},
   "outputs": [],
   "source": [
    "# Load the Titanic dataset from a CSV file (Replace with your dataset file path)\n",
    "data = pd.read_csv('tested.csv')"
   ]
  },
  {
   "cell_type": "code",
   "execution_count": 3,
   "id": "f0d8bd7f",
   "metadata": {},
   "outputs": [],
   "source": [
    "# Handle missing data: Fill missing Age values with the median, and Embarked with the mode.\n",
    "data['Age'].fillna(data['Age'].median(), inplace=True)\n",
    "data['Embarked'].fillna(data['Embarked'].mode()[0], inplace=True)\n"
   ]
  },
  {
   "cell_type": "code",
   "execution_count": 4,
   "id": "bfda117f",
   "metadata": {},
   "outputs": [],
   "source": [
    "# Perform one-hot encoding for categorical variables (Sex and Embarked)\n",
    "data = pd.get_dummies(data, columns=['Sex', 'Embarked'])\n"
   ]
  },
  {
   "cell_type": "code",
   "execution_count": 5,
   "id": "0a4a5d00",
   "metadata": {},
   "outputs": [],
   "source": [
    "# Separate the features (X) and the target (y)\n",
    "data.drop(['Fare'] , axis=1 , inplace=True)\n",
    "data.drop(['PassengerId', 'Name', 'Ticket', 'Cabin'], axis=1, inplace=True)\n",
    "X = data.drop('Survived', axis=1)\n",
    "y = data['Survived']\n",
    "X = data.drop('Survived', axis=1)\n",
    "y = data['Survived']"
   ]
  },
  {
   "cell_type": "code",
   "execution_count": 6,
   "id": "640c3a21",
   "metadata": {},
   "outputs": [],
   "source": [
    "# Split the data into training and testing sets\n",
    "X_train, X_test, y_train, y_test = train_test_split(X, y, test_size=0.2, random_state=42)\n"
   ]
  },
  {
   "cell_type": "code",
   "execution_count": 7,
   "id": "58011b56",
   "metadata": {},
   "outputs": [],
   "source": [
    "# Standardize features using StandardScaler\n",
    "scaler = StandardScaler()\n",
    "X_train_scaled = scaler.fit_transform(X_train)\n",
    "X_test_scaled = scaler.transform(X_test)"
   ]
  },
  {
   "cell_type": "markdown",
   "id": "2041839e",
   "metadata": {},
   "source": [
    "**Step 2: Build and Train the TensorFlow Model**"
   ]
  },
  {
   "cell_type": "code",
   "execution_count": 8,
   "id": "6d827081",
   "metadata": {},
   "outputs": [],
   "source": [
    "# Create a Sequential model\n",
    "model = tf.keras.models.Sequential([\n",
    "    tf.keras.layers.Dense(128, activation='relu', input_shape=(X_train_scaled.shape[1],)),\n",
    "    tf.keras.layers.Dropout(0.2),\n",
    "    tf.keras.layers.Dense(64, activation='relu'),\n",
    "    tf.keras.layers.Dense(1, activation='sigmoid')\n",
    "])"
   ]
  },
  {
   "cell_type": "code",
   "execution_count": 9,
   "id": "a1e9638b",
   "metadata": {},
   "outputs": [],
   "source": [
    "# Compile the model with appropriate loss and metrics\n",
    "model.compile(optimizer='adam', loss='binary_crossentropy', metrics=['accuracy'])\n"
   ]
  },
  {
   "cell_type": "code",
   "execution_count": 10,
   "id": "b248c88e",
   "metadata": {},
   "outputs": [
    {
     "name": "stdout",
     "output_type": "stream",
     "text": [
      "Epoch 1/50\n",
      "9/9 [==============================] - 1s 41ms/step - loss: 0.6081 - accuracy: 0.7041 - val_loss: 0.4694 - val_accuracy: 1.0000\n",
      "Epoch 2/50\n",
      "9/9 [==============================] - 0s 7ms/step - loss: 0.4099 - accuracy: 1.0000 - val_loss: 0.3150 - val_accuracy: 1.0000\n",
      "Epoch 3/50\n",
      "9/9 [==============================] - 0s 6ms/step - loss: 0.2627 - accuracy: 1.0000 - val_loss: 0.1869 - val_accuracy: 1.0000\n",
      "Epoch 4/50\n",
      "9/9 [==============================] - 0s 6ms/step - loss: 0.1500 - accuracy: 1.0000 - val_loss: 0.1000 - val_accuracy: 1.0000\n",
      "Epoch 5/50\n",
      "9/9 [==============================] - 0s 7ms/step - loss: 0.0793 - accuracy: 1.0000 - val_loss: 0.0525 - val_accuracy: 1.0000\n",
      "Epoch 6/50\n",
      "9/9 [==============================] - 0s 6ms/step - loss: 0.0427 - accuracy: 1.0000 - val_loss: 0.0290 - val_accuracy: 1.0000\n",
      "Epoch 7/50\n",
      "9/9 [==============================] - 0s 8ms/step - loss: 0.0236 - accuracy: 1.0000 - val_loss: 0.0176 - val_accuracy: 1.0000\n",
      "Epoch 8/50\n",
      "9/9 [==============================] - 0s 6ms/step - loss: 0.0164 - accuracy: 1.0000 - val_loss: 0.0116 - val_accuracy: 1.0000\n",
      "Epoch 9/50\n",
      "9/9 [==============================] - 0s 6ms/step - loss: 0.0110 - accuracy: 1.0000 - val_loss: 0.0082 - val_accuracy: 1.0000\n",
      "Epoch 10/50\n",
      "9/9 [==============================] - 0s 6ms/step - loss: 0.0080 - accuracy: 1.0000 - val_loss: 0.0061 - val_accuracy: 1.0000\n",
      "Epoch 11/50\n",
      "9/9 [==============================] - 0s 7ms/step - loss: 0.0057 - accuracy: 1.0000 - val_loss: 0.0048 - val_accuracy: 1.0000\n",
      "Epoch 12/50\n",
      "9/9 [==============================] - 0s 8ms/step - loss: 0.0048 - accuracy: 1.0000 - val_loss: 0.0039 - val_accuracy: 1.0000\n",
      "Epoch 13/50\n",
      "9/9 [==============================] - 0s 8ms/step - loss: 0.0039 - accuracy: 1.0000 - val_loss: 0.0033 - val_accuracy: 1.0000\n",
      "Epoch 14/50\n",
      "9/9 [==============================] - 0s 7ms/step - loss: 0.0031 - accuracy: 1.0000 - val_loss: 0.0028 - val_accuracy: 1.0000\n",
      "Epoch 15/50\n",
      "9/9 [==============================] - 0s 6ms/step - loss: 0.0026 - accuracy: 1.0000 - val_loss: 0.0024 - val_accuracy: 1.0000\n",
      "Epoch 16/50\n",
      "9/9 [==============================] - 0s 5ms/step - loss: 0.0026 - accuracy: 1.0000 - val_loss: 0.0021 - val_accuracy: 1.0000\n",
      "Epoch 17/50\n",
      "9/9 [==============================] - 0s 7ms/step - loss: 0.0023 - accuracy: 1.0000 - val_loss: 0.0019 - val_accuracy: 1.0000\n",
      "Epoch 18/50\n",
      "9/9 [==============================] - 0s 6ms/step - loss: 0.0019 - accuracy: 1.0000 - val_loss: 0.0017 - val_accuracy: 1.0000\n",
      "Epoch 19/50\n",
      "9/9 [==============================] - 0s 7ms/step - loss: 0.0017 - accuracy: 1.0000 - val_loss: 0.0015 - val_accuracy: 1.0000\n",
      "Epoch 20/50\n",
      "9/9 [==============================] - 0s 6ms/step - loss: 0.0015 - accuracy: 1.0000 - val_loss: 0.0014 - val_accuracy: 1.0000\n",
      "Epoch 21/50\n",
      "9/9 [==============================] - 0s 7ms/step - loss: 0.0015 - accuracy: 1.0000 - val_loss: 0.0012 - val_accuracy: 1.0000\n",
      "Epoch 22/50\n",
      "9/9 [==============================] - 0s 7ms/step - loss: 0.0013 - accuracy: 1.0000 - val_loss: 0.0011 - val_accuracy: 1.0000\n",
      "Epoch 23/50\n",
      "9/9 [==============================] - 0s 7ms/step - loss: 0.0013 - accuracy: 1.0000 - val_loss: 0.0010 - val_accuracy: 1.0000\n",
      "Epoch 24/50\n",
      "9/9 [==============================] - 0s 6ms/step - loss: 0.0011 - accuracy: 1.0000 - val_loss: 9.2998e-04 - val_accuracy: 1.0000\n",
      "Epoch 25/50\n",
      "9/9 [==============================] - 0s 6ms/step - loss: 0.0011 - accuracy: 1.0000 - val_loss: 8.5597e-04 - val_accuracy: 1.0000\n",
      "Epoch 26/50\n",
      "9/9 [==============================] - 0s 6ms/step - loss: 0.0010 - accuracy: 1.0000 - val_loss: 7.8800e-04 - val_accuracy: 1.0000\n",
      "Epoch 27/50\n",
      "9/9 [==============================] - 0s 7ms/step - loss: 8.7728e-04 - accuracy: 1.0000 - val_loss: 7.3012e-04 - val_accuracy: 1.0000\n",
      "Epoch 28/50\n",
      "9/9 [==============================] - 0s 7ms/step - loss: 8.4459e-04 - accuracy: 1.0000 - val_loss: 6.7724e-04 - val_accuracy: 1.0000\n",
      "Epoch 29/50\n",
      "9/9 [==============================] - 0s 6ms/step - loss: 8.2467e-04 - accuracy: 1.0000 - val_loss: 6.2796e-04 - val_accuracy: 1.0000\n",
      "Epoch 30/50\n",
      "9/9 [==============================] - 0s 6ms/step - loss: 7.1034e-04 - accuracy: 1.0000 - val_loss: 5.8500e-04 - val_accuracy: 1.0000\n",
      "Epoch 31/50\n",
      "9/9 [==============================] - 0s 6ms/step - loss: 6.1264e-04 - accuracy: 1.0000 - val_loss: 5.4720e-04 - val_accuracy: 1.0000\n",
      "Epoch 32/50\n",
      "9/9 [==============================] - 0s 6ms/step - loss: 6.4131e-04 - accuracy: 1.0000 - val_loss: 5.1301e-04 - val_accuracy: 1.0000\n",
      "Epoch 33/50\n",
      "9/9 [==============================] - 0s 7ms/step - loss: 5.8333e-04 - accuracy: 1.0000 - val_loss: 4.8194e-04 - val_accuracy: 1.0000\n",
      "Epoch 34/50\n",
      "9/9 [==============================] - 0s 7ms/step - loss: 5.3655e-04 - accuracy: 1.0000 - val_loss: 4.5370e-04 - val_accuracy: 1.0000\n",
      "Epoch 35/50\n",
      "9/9 [==============================] - 0s 6ms/step - loss: 5.4556e-04 - accuracy: 1.0000 - val_loss: 4.2761e-04 - val_accuracy: 1.0000\n",
      "Epoch 36/50\n",
      "9/9 [==============================] - 0s 8ms/step - loss: 5.3427e-04 - accuracy: 1.0000 - val_loss: 4.0207e-04 - val_accuracy: 1.0000\n",
      "Epoch 37/50\n",
      "9/9 [==============================] - 0s 8ms/step - loss: 4.4542e-04 - accuracy: 1.0000 - val_loss: 3.7960e-04 - val_accuracy: 1.0000\n",
      "Epoch 38/50\n",
      "9/9 [==============================] - 0s 7ms/step - loss: 4.6450e-04 - accuracy: 1.0000 - val_loss: 3.5930e-04 - val_accuracy: 1.0000\n",
      "Epoch 39/50\n",
      "9/9 [==============================] - 0s 7ms/step - loss: 4.4889e-04 - accuracy: 1.0000 - val_loss: 3.4120e-04 - val_accuracy: 1.0000\n",
      "Epoch 40/50\n",
      "9/9 [==============================] - 0s 7ms/step - loss: 4.2331e-04 - accuracy: 1.0000 - val_loss: 3.2387e-04 - val_accuracy: 1.0000\n",
      "Epoch 41/50\n",
      "9/9 [==============================] - 0s 7ms/step - loss: 3.5748e-04 - accuracy: 1.0000 - val_loss: 3.0804e-04 - val_accuracy: 1.0000\n",
      "Epoch 42/50\n",
      "9/9 [==============================] - 0s 7ms/step - loss: 3.5939e-04 - accuracy: 1.0000 - val_loss: 2.9388e-04 - val_accuracy: 1.0000\n",
      "Epoch 43/50\n",
      "9/9 [==============================] - 0s 6ms/step - loss: 3.9034e-04 - accuracy: 1.0000 - val_loss: 2.7983e-04 - val_accuracy: 1.0000\n",
      "Epoch 44/50\n",
      "9/9 [==============================] - 0s 7ms/step - loss: 3.9032e-04 - accuracy: 1.0000 - val_loss: 2.6575e-04 - val_accuracy: 1.0000\n",
      "Epoch 45/50\n",
      "9/9 [==============================] - 0s 7ms/step - loss: 3.9128e-04 - accuracy: 1.0000 - val_loss: 2.5205e-04 - val_accuracy: 1.0000\n",
      "Epoch 46/50\n",
      "9/9 [==============================] - 0s 6ms/step - loss: 3.5977e-04 - accuracy: 1.0000 - val_loss: 2.3979e-04 - val_accuracy: 1.0000\n",
      "Epoch 47/50\n",
      "9/9 [==============================] - 0s 7ms/step - loss: 2.8818e-04 - accuracy: 1.0000 - val_loss: 2.2892e-04 - val_accuracy: 1.0000\n",
      "Epoch 48/50\n",
      "9/9 [==============================] - 0s 7ms/step - loss: 2.6349e-04 - accuracy: 1.0000 - val_loss: 2.1895e-04 - val_accuracy: 1.0000\n",
      "Epoch 49/50\n",
      "9/9 [==============================] - 0s 8ms/step - loss: 3.0379e-04 - accuracy: 1.0000 - val_loss: 2.0961e-04 - val_accuracy: 1.0000\n",
      "Epoch 50/50\n",
      "9/9 [==============================] - 0s 7ms/step - loss: 2.3053e-04 - accuracy: 1.0000 - val_loss: 2.0086e-04 - val_accuracy: 1.0000\n"
     ]
    }
   ],
   "source": [
    "# Train the model on the training data\n",
    "history = model.fit(X_train_scaled, y_train, epochs=50, batch_size=32, validation_split=0.2)\n"
   ]
  },
  {
   "cell_type": "markdown",
   "id": "9c293b3f",
   "metadata": {},
   "source": [
    "**Step 3: Evaluate and predict the Model**"
   ]
  },
  {
   "cell_type": "code",
   "execution_count": 11,
   "id": "6802e2fb",
   "metadata": {},
   "outputs": [
    {
     "name": "stdout",
     "output_type": "stream",
     "text": [
      "3/3 [==============================] - 0s 3ms/step\n"
     ]
    }
   ],
   "source": [
    "y_pred = model.predict(X_test)"
   ]
  },
  {
   "cell_type": "code",
   "execution_count": 12,
   "id": "570df0cf",
   "metadata": {},
   "outputs": [
    {
     "name": "stdout",
     "output_type": "stream",
     "text": [
      "3/3 [==============================] - 0s 3ms/step - loss: 1.9975e-04 - accuracy: 1.0000\n",
      "Test accuracy: 1.0000\n"
     ]
    }
   ],
   "source": [
    "# Evaluate the model on the test data\n",
    "loss, accuracy = model.evaluate(X_test_scaled, y_test)\n",
    "print(f\"Test accuracy: {accuracy:.4f}\")"
   ]
  },
  {
   "cell_type": "code",
   "execution_count": null,
   "id": "e629daa5",
   "metadata": {},
   "outputs": [],
   "source": []
  }
 ],
 "metadata": {
  "kernelspec": {
   "display_name": "Python 3 (ipykernel)",
   "language": "python",
   "name": "python3"
  },
  "language_info": {
   "codemirror_mode": {
    "name": "ipython",
    "version": 3
   },
   "file_extension": ".py",
   "mimetype": "text/x-python",
   "name": "python",
   "nbconvert_exporter": "python",
   "pygments_lexer": "ipython3",
   "version": "3.11.0"
  }
 },
 "nbformat": 4,
 "nbformat_minor": 5
}
